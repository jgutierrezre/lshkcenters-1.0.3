{
 "cells": [
  {
   "cell_type": "code",
   "execution_count": 59,
   "metadata": {},
   "outputs": [],
   "source": [
    "import numpy as np\n",
    "import pandas as pd\n",
    "from LSHkCenters.LSHkCenters import LSHkCenters"
   ]
  },
  {
   "cell_type": "code",
   "execution_count": 60,
   "metadata": {},
   "outputs": [],
   "source": [
    "# X = np.array(\n",
    "#     [[0, 0, 0], [0, 1, 1], [0, 0, 0], [1, 0, 1], [2, 2, 2], [2, 3, 2], [2, 3, 2]]\n",
    "# )\n",
    "# y = np.array([0, 0, 0, 0, 1, 1, 1])"
   ]
  },
  {
   "cell_type": "code",
   "execution_count": 61,
   "metadata": {},
   "outputs": [],
   "source": [
    "data = pd.read_csv(\"new/datasets/soybean-small.data.csv\", header=None)\n",
    "X = data.iloc[:, :-1].values\n",
    "y = data.iloc[:, -1].values\n",
    "# y has values [D1,D2,D3,D4] but we need [0,1,2,3]\n",
    "y = np.unique(y, return_inverse=True)[1]"
   ]
  },
  {
   "cell_type": "code",
   "execution_count": 62,
   "metadata": {},
   "outputs": [
    {
     "data": {
      "text/plain": [
       "array([[4, 0, 2, ..., 0, 0, 0],\n",
       "       [5, 0, 2, ..., 0, 0, 0],\n",
       "       [3, 0, 2, ..., 0, 0, 0],\n",
       "       ...,\n",
       "       [2, 1, 1, ..., 0, 0, 1],\n",
       "       [0, 1, 1, ..., 0, 0, 1],\n",
       "       [0, 1, 2, ..., 0, 0, 1]])"
      ]
     },
     "execution_count": 62,
     "metadata": {},
     "output_type": "execute_result"
    }
   ],
   "source": [
    "X"
   ]
  },
  {
   "cell_type": "code",
   "execution_count": 63,
   "metadata": {},
   "outputs": [
    {
     "data": {
      "text/plain": [
       "array([0, 0, 0, 0, 0, 0, 0, 0, 0, 0, 1, 1, 1, 1, 1, 1, 1, 1, 1, 1, 2, 2,\n",
       "       2, 2, 2, 2, 2, 2, 2, 2, 3, 3, 3, 3, 3, 3, 3, 3, 3, 3, 3, 3, 3, 3,\n",
       "       3, 3, 3])"
      ]
     },
     "execution_count": 63,
     "metadata": {},
     "output_type": "execute_result"
    }
   ],
   "source": [
    "y"
   ]
  },
  {
   "cell_type": "code",
   "execution_count": 65,
   "metadata": {},
   "outputs": [
    {
     "name": "stdout",
     "output_type": "stream",
     "text": [
      "SKIP LOADING distMatrix because: True bd=None\u001b[0m yellow\n",
      "Generating disMatrix for DILCA\n"
     ]
    },
    {
     "ename": "IndexError",
     "evalue": "list index out of range",
     "output_type": "error",
     "traceback": [
      "\u001b[0;31m---------------------------------------------------------------------------\u001b[0m",
      "\u001b[0;31mIndexError\u001b[0m                                Traceback (most recent call last)",
      "\u001b[1;32m/mnt/c/Users/test/Documents/GitHub/lshkcenters-1.0.3/test.ipynb Cell 6\u001b[0m line \u001b[0;36m2\n\u001b[1;32m      <a href='vscode-notebook-cell://wsl%2Bubuntu/mnt/c/Users/test/Documents/GitHub/lshkcenters-1.0.3/test.ipynb#W2sdnNjb2RlLXJlbW90ZQ%3D%3D?line=0'>1</a>\u001b[0m kcens \u001b[39m=\u001b[39m LSHkCenters(X, y, n_init\u001b[39m=\u001b[39m\u001b[39m5\u001b[39m, k\u001b[39m=\u001b[39m\u001b[39m4\u001b[39m)\n\u001b[0;32m----> <a href='vscode-notebook-cell://wsl%2Bubuntu/mnt/c/Users/test/Documents/GitHub/lshkcenters-1.0.3/test.ipynb#W2sdnNjb2RlLXJlbW90ZQ%3D%3D?line=1'>2</a>\u001b[0m kcens\u001b[39m.\u001b[39;49mSetupLSH()\n\u001b[1;32m      <a href='vscode-notebook-cell://wsl%2Bubuntu/mnt/c/Users/test/Documents/GitHub/lshkcenters-1.0.3/test.ipynb#W2sdnNjb2RlLXJlbW90ZQ%3D%3D?line=2'>3</a>\u001b[0m kcens\u001b[39m.\u001b[39mDoCluster()\n",
      "File \u001b[0;32m/mnt/c/Users/test/Documents/GitHub/lshkcenters-1.0.3/LSHkCenters/LSHkCenters.py:43\u001b[0m, in \u001b[0;36mLSHkCenters.SetupLSH\u001b[0;34m(self, hbits, k, measure)\u001b[0m\n\u001b[1;32m     41\u001b[0m \u001b[39mdef\u001b[39;00m \u001b[39mSetupLSH\u001b[39m(\u001b[39mself\u001b[39m, hbits\u001b[39m=\u001b[39m\u001b[39m-\u001b[39m\u001b[39m1\u001b[39m,k\u001b[39m=\u001b[39m\u001b[39m-\u001b[39m\u001b[39m1\u001b[39m,measure\u001b[39m=\u001b[39m\u001b[39m'\u001b[39m\u001b[39mDILCA\u001b[39m\u001b[39m'\u001b[39m ):\n\u001b[1;32m     42\u001b[0m     start \u001b[39m=\u001b[39m timeit\u001b[39m.\u001b[39mdefault_timer()\n\u001b[0;32m---> 43\u001b[0m     \u001b[39mself\u001b[39m\u001b[39m.\u001b[39mlsh \u001b[39m=\u001b[39m LSH(\u001b[39mself\u001b[39;49m\u001b[39m.\u001b[39;49mX,\u001b[39mself\u001b[39;49m\u001b[39m.\u001b[39;49my,measure\u001b[39m=\u001b[39;49mmeasure,hbits\u001b[39m=\u001b[39;49mhbits)\n\u001b[1;32m     44\u001b[0m     \u001b[39mself\u001b[39m\u001b[39m.\u001b[39mlsh\u001b[39m.\u001b[39mDoHash()\n\u001b[1;32m     45\u001b[0m     \u001b[39mself\u001b[39m\u001b[39m.\u001b[39mtime_lsh \u001b[39m=\u001b[39m timeit\u001b[39m.\u001b[39mdefault_timer() \u001b[39m-\u001b[39m start\n",
      "File \u001b[0;32m/mnt/c/Users/test/Documents/GitHub/lshkcenters-1.0.3/LSHkCenters/LSH/SimpleHashing.py:32\u001b[0m, in \u001b[0;36mSimpleHashing.__init__\u001b[0;34m(self, X, y, n_init, hbits, k, measure)\u001b[0m\n\u001b[1;32m     30\u001b[0m \u001b[39mif\u001b[39;00m \u001b[39m2\u001b[39m\u001b[39m*\u001b[39m\u001b[39m*\u001b[39m\u001b[39mself\u001b[39m\u001b[39m.\u001b[39mhbits \u001b[39m<\u001b[39m\u001b[39m=\u001b[39m\u001b[39mself\u001b[39m\u001b[39m.\u001b[39mk: \u001b[39mprint\u001b[39m(\u001b[39m\"\u001b[39m\u001b[39mWARNING: BAD HBITS: hbits=\u001b[39m\u001b[39m\"\u001b[39m,\u001b[39mself\u001b[39m\u001b[39m.\u001b[39mhbits, \u001b[39m\"\u001b[39m\u001b[39m d=\u001b[39m\u001b[39m\"\u001b[39m, \u001b[39mself\u001b[39m\u001b[39m.\u001b[39md,  \u001b[39m\"\u001b[39m\u001b[39m nbucket=\u001b[39m\u001b[39m\"\u001b[39m, \u001b[39m2\u001b[39m\u001b[39m*\u001b[39m\u001b[39m*\u001b[39m\u001b[39mself\u001b[39m\u001b[39m.\u001b[39mhbits,\u001b[39m\"\u001b[39m\u001b[39m k=\u001b[39m\u001b[39m\"\u001b[39m, \u001b[39mself\u001b[39m\u001b[39m.\u001b[39mk, \u001b[39m'\u001b[39m\u001b[39m n=\u001b[39m\u001b[39m'\u001b[39m,\u001b[39mself\u001b[39m\u001b[39m.\u001b[39mn)\n\u001b[1;32m     31\u001b[0m \u001b[39mif\u001b[39;00m n_init \u001b[39m>\u001b[39m \u001b[39m0\u001b[39m: \u001b[39mself\u001b[39m\u001b[39m.\u001b[39mn_init \u001b[39m=\u001b[39m n_init\n\u001b[0;32m---> 32\u001b[0m \u001b[39mself\u001b[39;49m\u001b[39m.\u001b[39;49mSetupMeasure(measure)\n",
      "File \u001b[0;32m/mnt/c/Users/test/Documents/GitHub/lshkcenters-1.0.3/LSHkCenters/LSH/SimpleHashing.py:47\u001b[0m, in \u001b[0;36mSimpleHashing.SetupMeasure\u001b[0;34m(self, classname)\u001b[0m\n\u001b[1;32m     45\u001b[0m     class_ \u001b[39m=\u001b[39m DILCA\n\u001b[1;32m     46\u001b[0m \u001b[39mself\u001b[39m\u001b[39m.\u001b[39mmeasure \u001b[39m=\u001b[39m class_()\n\u001b[0;32m---> 47\u001b[0m \u001b[39mself\u001b[39;49m\u001b[39m.\u001b[39;49mmeasure\u001b[39m.\u001b[39;49msetUp(\u001b[39mself\u001b[39;49m\u001b[39m.\u001b[39;49mX, \u001b[39mself\u001b[39;49m\u001b[39m.\u001b[39;49my)\n",
      "File \u001b[0;32m/mnt/c/Users/test/Documents/GitHub/lshkcenters-1.0.3/LSHkCenters/Measures/DILCA.py:112\u001b[0m, in \u001b[0;36mDILCA.setUp\u001b[0;34m(self, X, y)\u001b[0m\n\u001b[1;32m    110\u001b[0m     \u001b[39mfor\u001b[39;00m i \u001b[39min\u001b[39;00m \u001b[39mrange\u001b[39m(\u001b[39mlen\u001b[39m(X[\u001b[39m0\u001b[39m])):\n\u001b[1;32m    111\u001b[0m         \u001b[39mself\u001b[39m\u001b[39m.\u001b[39mmax\u001b[39m.\u001b[39mappend(\u001b[39mmax\u001b[39m(X[:,i]))\n\u001b[0;32m--> 112\u001b[0m     \u001b[39mself\u001b[39;49m\u001b[39m.\u001b[39;49mComputeEtropy(X)\n\u001b[1;32m    113\u001b[0m     \u001b[39mself\u001b[39m\u001b[39m.\u001b[39mSavedistMatrix()\n\u001b[1;32m    114\u001b[0m \u001b[39mreturn\u001b[39;00m timeit\u001b[39m.\u001b[39mdefault_timer() \u001b[39m-\u001b[39m start\n",
      "File \u001b[0;32m/mnt/c/Users/test/Documents/GitHub/lshkcenters-1.0.3/LSHkCenters/Measures/DILCA.py:87\u001b[0m, in \u001b[0;36mDILCA.ComputeEtropy\u001b[0;34m(self, X)\u001b[0m\n\u001b[1;32m     85\u001b[0m conditionMatrix \u001b[39m=\u001b[39m \u001b[39mself\u001b[39m\u001b[39m.\u001b[39mconditionProMatrix[(d,d2)]\n\u001b[1;32m     86\u001b[0m \u001b[39mfor\u001b[39;00m i_k \u001b[39min\u001b[39;00m \u001b[39mrange\u001b[39m(\u001b[39mself\u001b[39m\u001b[39m.\u001b[39mmax[d2]):\n\u001b[0;32m---> 87\u001b[0m     dist_sum_tmp2 \u001b[39m=\u001b[39m  math\u001b[39m.\u001b[39mpow(conditionMatrix[i][i_k] \u001b[39m-\u001b[39m  conditionMatrix[j][i_k],\u001b[39m2\u001b[39m)\n\u001b[1;32m     88\u001b[0m     dist_sum_tmp \u001b[39m=\u001b[39m dist_sum_tmp \u001b[39m+\u001b[39m  dist_sum_tmp2\u001b[39m*\u001b[39m\u001b[39mself\u001b[39m\u001b[39m.\u001b[39mprobabilityMatrix[d2][i_k];\n\u001b[1;32m     89\u001b[0m dist_sum \u001b[39m=\u001b[39m dist_sum\u001b[39m+\u001b[39m dist_sum_tmp\n",
      "\u001b[0;31mIndexError\u001b[0m: list index out of range"
     ]
    }
   ],
   "source": [
    "kcens = LSHkCenters(X, y, n_init=5, k=4)\n",
    "kcens.SetupLSH()\n",
    "kcens.DoCluster()"
   ]
  },
  {
   "cell_type": "code",
   "execution_count": null,
   "metadata": {},
   "outputs": [
    {
     "name": "stdout",
     "output_type": "stream",
     "text": [
      "Purity: 1.000 NMI: 1.00 ARI: 1.00 Sil:  -1.00 Acc: 1.00 Recall: 1.00 Precision: 1.00\n"
     ]
    },
    {
     "data": {
      "text/plain": [
       "(1.0,\n",
       " 1.0,\n",
       " 1.0,\n",
       " 1.0,\n",
       " 1.0,\n",
       " -1,\n",
       " 0.0017460838000033618,\n",
       " 0.14817857700006698,\n",
       " 1.0,\n",
       " 1.0,\n",
       " 1.0)"
      ]
     },
     "execution_count": 4,
     "metadata": {},
     "output_type": "execute_result"
    }
   ],
   "source": [
    "kcens.CalcScore()"
   ]
  },
  {
   "cell_type": "code",
   "execution_count": null,
   "metadata": {},
   "outputs": [
    {
     "name": "stdout",
     "output_type": "stream",
     "text": [
      "Fuzzy scores PC:1.00 NPC:1.00 FHV↓:0.02 FS↓:-2000.00 XB↓:0.11 BH↓:0.06 BWS:-2000.00 FPC:3.50 SIL_R:0.70 FSIL:0.70 MPO:12.15 NPE:0.01 PE:0.01 PEB:0.01\n"
     ]
    }
   ],
   "source": [
    "kcens.CalcFuzzyScore()"
   ]
  }
 ],
 "metadata": {
  "kernelspec": {
   "display_name": "base",
   "language": "python",
   "name": "python3"
  },
  "language_info": {
   "codemirror_mode": {
    "name": "ipython",
    "version": 3
   },
   "file_extension": ".py",
   "mimetype": "text/x-python",
   "name": "python",
   "nbconvert_exporter": "python",
   "pygments_lexer": "ipython3",
   "version": "3.11.5"
  },
  "orig_nbformat": 4
 },
 "nbformat": 4,
 "nbformat_minor": 2
}
