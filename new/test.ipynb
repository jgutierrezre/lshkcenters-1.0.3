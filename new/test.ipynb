{
 "cells": [
  {
   "cell_type": "code",
   "execution_count": 1,
   "metadata": {},
   "outputs": [],
   "source": [
    "import numpy as np\n",
    "import pandas as pd"
   ]
  },
  {
   "cell_type": "code",
   "execution_count": 2,
   "metadata": {},
   "outputs": [],
   "source": [
    "from myproject import LSHkCenters"
   ]
  },
  {
   "cell_type": "code",
   "execution_count": 3,
   "metadata": {},
   "outputs": [],
   "source": [
    "X = np.array(\n",
    "    [[0, 0, 0], [0, 1, 1], [0, 0, 0], [1, 0, 1], [2, 2, 2], [2, 3, 2], [2, 3, 2]]\n",
    ")\n",
    "y = np.array([0, 0, 0, 0, 1, 1, 1])"
   ]
  },
  {
   "cell_type": "code",
   "execution_count": 4,
   "metadata": {},
   "outputs": [],
   "source": [
    "# data = pd.read_csv(\"datasets/soybean-small.data.csv\", header=None)\n",
    "# data = data.apply(lambda col: pd.factorize(col)[0])\n",
    "# X = data.iloc[:, :-1].values\n",
    "# y = data.iloc[:, -1].values\n",
    "# y = np.unique(y, return_inverse=True)[1]\n"
   ]
  },
  {
   "cell_type": "code",
   "execution_count": 5,
   "metadata": {},
   "outputs": [
    {
     "data": {
      "text/plain": [
       "array([[0, 0, 0],\n",
       "       [0, 1, 1],\n",
       "       [0, 0, 0],\n",
       "       [1, 0, 1],\n",
       "       [2, 2, 2],\n",
       "       [2, 3, 2],\n",
       "       [2, 3, 2]])"
      ]
     },
     "execution_count": 5,
     "metadata": {},
     "output_type": "execute_result"
    }
   ],
   "source": [
    "X"
   ]
  },
  {
   "cell_type": "code",
   "execution_count": 6,
   "metadata": {},
   "outputs": [
    {
     "name": "stdout",
     "output_type": "stream",
     "text": [
      "X\n",
      " [[0 0 0]\n",
      " [0 1 1]\n",
      " [0 0 0]\n",
      " [1 0 1]\n",
      " [2 2 2]\n",
      " [2 3 2]\n",
      " [2 3 2]]\n",
      "SU_matrix\n",
      " [[       nan 0.60689525 0.58669983]\n",
      " [0.48219867        nan 0.530354  ]\n",
      " [0.56402686 0.63104655        nan]]\n",
      "dist_matrices\n",
      " [array([[0.        , 0.28571429, 0.53452248],\n",
      "       [0.28571429, 0.        , 0.45175395],\n",
      "       [0.53452248, 0.45175395, 0.        ]]), array([[0.        , 0.28571429, 0.34992711, 0.42857143],\n",
      "       [0.28571429, 0.        , 0.20203051, 0.31943828],\n",
      "       [0.34992711, 0.20203051, 0.        , 0.14285714],\n",
      "       [0.42857143, 0.31943828, 0.14285714, 0.        ]]), array([[0.        , 0.20203051, 0.51507875],\n",
      "       [0.20203051, 0.        , 0.47380354],\n",
      "       [0.51507875, 0.47380354, 0.        ]])]\n"
     ]
    }
   ],
   "source": [
    "kcens = LSHkCenters(X, y, n_init=5, k=2)\n",
    "#kcens.do_cluster()"
   ]
  }
 ],
 "metadata": {
  "kernelspec": {
   "display_name": "base",
   "language": "python",
   "name": "python3"
  },
  "language_info": {
   "codemirror_mode": {
    "name": "ipython",
    "version": 3
   },
   "file_extension": ".py",
   "mimetype": "text/x-python",
   "name": "python",
   "nbconvert_exporter": "python",
   "pygments_lexer": "ipython3",
   "version": "3.11.5"
  },
  "orig_nbformat": 4
 },
 "nbformat": 4,
 "nbformat_minor": 2
}
