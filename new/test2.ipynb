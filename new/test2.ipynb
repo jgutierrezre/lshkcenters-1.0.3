{
 "cells": [
  {
   "cell_type": "code",
   "execution_count": 1,
   "metadata": {},
   "outputs": [],
   "source": [
    "import numpy as np\n",
    "import pandas as pd"
   ]
  },
  {
   "cell_type": "code",
   "execution_count": 2,
   "metadata": {},
   "outputs": [],
   "source": [
    "from myproject import LSHkCenters"
   ]
  },
  {
   "cell_type": "code",
   "execution_count": 3,
   "metadata": {},
   "outputs": [],
   "source": [
    "X = np.array(\n",
    "    [[0, 0, 0], [0, 1, 1], [0, 0, 0], [1, 0, 1], [2, 2, 2], [2, 3, 2], [2, 3, 2]]\n",
    ")\n",
    "y = np.array([0, 0, 0, 0, 1, 1, 1])"
   ]
  },
  {
   "cell_type": "code",
   "execution_count": 4,
   "metadata": {},
   "outputs": [],
   "source": [
    "# data = pd.read_csv(\"datasets/soybean-small.data.csv\", header=None)\n",
    "# X = data.iloc[:, :-1].values\n",
    "# y = data.iloc[:, -1].values\n",
    "# # y has values [D1,D2,D3,D4] but we need [0,1,2,3]\n",
    "# y = np.unique(y, return_inverse=True)[1]"
   ]
  },
  {
   "cell_type": "code",
   "execution_count": 5,
   "metadata": {},
   "outputs": [
    {
     "name": "stdout",
     "output_type": "stream",
     "text": [
      "X [[0 0 0]\n",
      " [0 1 1]\n",
      " [0 0 0]\n",
      " [1 0 1]\n",
      " [2 2 2]\n",
      " [2 3 2]\n",
      " [2 3 2]]\n",
      "SU_matrix [[0.         0.60689525 0.58669983]\n",
      " [0.48219867 0.         0.530354  ]\n",
      " [0.56402686 0.63104655 0.        ]]\n",
      "context_Y [[0 0]\n",
      " [1 1]\n",
      " [0 0]\n",
      " [0 1]\n",
      " [2 2]\n",
      " [3 2]\n",
      " [3 2]]\n"
     ]
    },
    {
     "ename": "IndexError",
     "evalue": "tuple index out of range",
     "output_type": "error",
     "traceback": [
      "\u001b[0;31m---------------------------------------------------------------------------\u001b[0m",
      "\u001b[0;31mIndexError\u001b[0m                                Traceback (most recent call last)",
      "\u001b[1;32m/mnt/c/Users/test/Documents/GitHub/lshkcenters-1.0.3/new/test2.ipynb Cell 5\u001b[0m line \u001b[0;36m1\n\u001b[0;32m----> <a href='vscode-notebook-cell://wsl%2Bubuntu/mnt/c/Users/test/Documents/GitHub/lshkcenters-1.0.3/new/test2.ipynb#W3sdnNjb2RlLXJlbW90ZQ%3D%3D?line=0'>1</a>\u001b[0m kcens \u001b[39m=\u001b[39m LSHkCenters(X, y, n_init\u001b[39m=\u001b[39;49m\u001b[39m5\u001b[39;49m, k\u001b[39m=\u001b[39;49m\u001b[39m2\u001b[39;49m)\n\u001b[1;32m      <a href='vscode-notebook-cell://wsl%2Bubuntu/mnt/c/Users/test/Documents/GitHub/lshkcenters-1.0.3/new/test2.ipynb#W3sdnNjb2RlLXJlbW90ZQ%3D%3D?line=1'>2</a>\u001b[0m \u001b[39m#kcens.do_cluster()\u001b[39;00m\n",
      "File \u001b[0;32m/mnt/c/Users/test/Documents/GitHub/lshkcenters-1.0.3/new/myproject/Clustering/LSHkCenters.py:33\u001b[0m, in \u001b[0;36mLSHkCenters.__init__\u001b[0;34m(self, hbits, measure_name, *args, **kwargs)\u001b[0m\n\u001b[1;32m     22\u001b[0m \u001b[39m# start = timeit.default_timer()\u001b[39;00m\n\u001b[1;32m     24\u001b[0m \u001b[39mself\u001b[39m\u001b[39m.\u001b[39mlsh \u001b[39m=\u001b[39m LSH(\n\u001b[1;32m     25\u001b[0m     X\u001b[39m=\u001b[39m\u001b[39mself\u001b[39m\u001b[39m.\u001b[39mX,\n\u001b[1;32m     26\u001b[0m     y\u001b[39m=\u001b[39m\u001b[39mself\u001b[39m\u001b[39m.\u001b[39my,\n\u001b[0;32m   (...)\u001b[0m\n\u001b[1;32m     31\u001b[0m     measure_name\u001b[39m=\u001b[39mmeasure_name,\n\u001b[1;32m     32\u001b[0m )\n\u001b[0;32m---> 33\u001b[0m \u001b[39mself\u001b[39;49m\u001b[39m.\u001b[39;49mlsh\u001b[39m.\u001b[39;49mdo_hash()\n",
      "File \u001b[0;32m/mnt/c/Users/test/Documents/GitHub/lshkcenters-1.0.3/new/myproject/Hashing/LSH.py:35\u001b[0m, in \u001b[0;36mLSH.do_hash\u001b[0;34m(self)\u001b[0m\n\u001b[1;32m     34\u001b[0m \u001b[39mdef\u001b[39;00m \u001b[39mdo_hash\u001b[39m(\u001b[39mself\u001b[39m) \u001b[39m-\u001b[39m\u001b[39m>\u001b[39m \u001b[39mNone\u001b[39;00m:\n\u001b[0;32m---> 35\u001b[0m     similarity_matrices \u001b[39m=\u001b[39m \u001b[39mself\u001b[39;49m\u001b[39m.\u001b[39;49mmeasure\u001b[39m.\u001b[39;49mgenerate_similarity_matrices()\n\u001b[1;32m     37\u001b[0m     partitions, cut_values, cut_values_normal \u001b[39m=\u001b[39m \u001b[39mself\u001b[39m\u001b[39m.\u001b[39mgenerate_similarity_matrix(\n\u001b[1;32m     38\u001b[0m         similarity_matrices\n\u001b[1;32m     39\u001b[0m     )\n\u001b[1;32m     41\u001b[0m     bit_indexes \u001b[39m=\u001b[39m np\u001b[39m.\u001b[39margpartition(cut_values_normal, \u001b[39mself\u001b[39m\u001b[39m.\u001b[39mhbits)[: \u001b[39mself\u001b[39m\u001b[39m.\u001b[39mhbits]\n",
      "File \u001b[0;32m/mnt/c/Users/test/Documents/GitHub/lshkcenters-1.0.3/new/myproject/Measures/BaseMeasure.py:56\u001b[0m, in \u001b[0;36mBaseMeasure.generate_similarity_matrices\u001b[0;34m(self)\u001b[0m\n\u001b[1;32m     55\u001b[0m \u001b[39mdef\u001b[39;00m \u001b[39mgenerate_similarity_matrices\u001b[39m(\u001b[39mself\u001b[39m) \u001b[39m-\u001b[39m\u001b[39m>\u001b[39m \u001b[39mlist\u001b[39m:\n\u001b[0;32m---> 56\u001b[0m     dist_matrix \u001b[39m=\u001b[39m \u001b[39mself\u001b[39;49m\u001b[39m.\u001b[39;49mgenerate_dist_matrix()\n\u001b[1;32m     57\u001b[0m     \u001b[39mprint\u001b[39m(\u001b[39m\"\u001b[39m\u001b[39mdist_matrix\u001b[39m\u001b[39m\"\u001b[39m, dist_matrix)\n\u001b[1;32m     58\u001b[0m     sim_matrix \u001b[39m=\u001b[39m []\n",
      "File \u001b[0;32m/mnt/c/Users/test/Documents/GitHub/lshkcenters-1.0.3/new/myproject/Measures/DILCA.py:25\u001b[0m, in \u001b[0;36mDILCA.generate_dist_matrix\u001b[0;34m(self)\u001b[0m\n\u001b[1;32m     22\u001b[0m SU_matrix \u001b[39m=\u001b[39m \u001b[39mself\u001b[39m\u001b[39m.\u001b[39mcompute_correlation_matrix(\u001b[39mself\u001b[39m\u001b[39m.\u001b[39mX)\n\u001b[1;32m     23\u001b[0m \u001b[39mprint\u001b[39m(\u001b[39m\"\u001b[39m\u001b[39mSU_matrix\u001b[39m\u001b[39m\"\u001b[39m, SU_matrix)\n\u001b[0;32m---> 25\u001b[0m \u001b[39mreturn\u001b[39;00m \u001b[39mself\u001b[39;49m\u001b[39m.\u001b[39;49mDILCA_M(\u001b[39mself\u001b[39;49m\u001b[39m.\u001b[39;49mX, SU_matrix, \u001b[39m0\u001b[39;49m)\n",
      "File \u001b[0;32m/mnt/c/Users/test/Documents/GitHub/lshkcenters-1.0.3/new/myproject/Measures/DILCA.py:115\u001b[0m, in \u001b[0;36mDILCA.DILCA_M\u001b[0;34m(self, D, SU_matrix, Y_i, sigma)\u001b[0m\n\u001b[1;32m    112\u001b[0m context_Y \u001b[39m=\u001b[39m D[:, SU_vector_Y \u001b[39m>\u001b[39m\u001b[39m=\u001b[39m mean]\n\u001b[1;32m    113\u001b[0m \u001b[39mprint\u001b[39m(\u001b[39m\"\u001b[39m\u001b[39mcontext_Y\u001b[39m\u001b[39m\"\u001b[39m, context_Y)\n\u001b[0;32m--> 115\u001b[0m \u001b[39mreturn\u001b[39;00m \u001b[39mself\u001b[39;49m\u001b[39m.\u001b[39;49mcompute_distance_matrix(Y, context_Y)\n",
      "File \u001b[0;32m/mnt/c/Users/test/Documents/GitHub/lshkcenters-1.0.3/new/myproject/Measures/DILCA.py:93\u001b[0m, in \u001b[0;36mDILCA.compute_distance_matrix\u001b[0;34m(self, Y, context_Y)\u001b[0m\n\u001b[1;32m     90\u001b[0m \u001b[39mdef\u001b[39;00m \u001b[39mcompute_distance_matrix\u001b[39m(\n\u001b[1;32m     91\u001b[0m     \u001b[39mself\u001b[39m, Y: np\u001b[39m.\u001b[39mndarray, context_Y: np\u001b[39m.\u001b[39mndarray\n\u001b[1;32m     92\u001b[0m ) \u001b[39m-\u001b[39m\u001b[39m>\u001b[39m np\u001b[39m.\u001b[39mndarray:\n\u001b[0;32m---> 93\u001b[0m     d \u001b[39m=\u001b[39m Y\u001b[39m.\u001b[39;49mshape[\u001b[39m1\u001b[39;49m]\n\u001b[1;32m     94\u001b[0m     dist_matrix \u001b[39m=\u001b[39m np\u001b[39m.\u001b[39mzeros((d, d))\n\u001b[1;32m     95\u001b[0m     \u001b[39mfor\u001b[39;00m i \u001b[39min\u001b[39;00m \u001b[39mrange\u001b[39m(d):\n",
      "\u001b[0;31mIndexError\u001b[0m: tuple index out of range"
     ]
    }
   ],
   "source": [
    "kcens = LSHkCenters(X, y, n_init=5, k=2)\n",
    "#kcens.do_cluster()"
   ]
  }
 ],
 "metadata": {
  "kernelspec": {
   "display_name": "base",
   "language": "python",
   "name": "python3"
  },
  "language_info": {
   "codemirror_mode": {
    "name": "ipython",
    "version": 3
   },
   "file_extension": ".py",
   "mimetype": "text/x-python",
   "name": "python",
   "nbconvert_exporter": "python",
   "pygments_lexer": "ipython3",
   "version": "3.11.5"
  },
  "orig_nbformat": 4
 },
 "nbformat": 4,
 "nbformat_minor": 2
}
